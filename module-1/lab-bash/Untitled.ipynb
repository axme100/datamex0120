{
 "cells": [
  {
   "cell_type": "code",
   "execution_count": 53,
   "metadata": {},
   "outputs": [
    {
     "data": {
      "text/plain": [
       "[1, 'dos', 'tres']"
      ]
     },
     "execution_count": 53,
     "metadata": {},
     "output_type": "execute_result"
    }
   ],
   "source": [
    "lista = [1,2,3,4,True,'hola']\n",
    "lista[-1].capitalize()\n",
    "lista.pop(0)\n",
    "lista_2 = [12,34,6,7]\n",
    "\n",
    "mylista = [1,]\n",
    "len(mylista)\n",
    "\n",
    "lista_3 = [i for i in range (11)]\n",
    "\n",
    "lista_4 = [i for i in range(11) if i%2==0 and i < 7]\n",
    "\n",
    "lista_4 = [i for i in range(11) if i%2==0 if i < 7]\n",
    "\n",
    "lista_5 = []\n",
    "\n",
    "for i in range(11):\n",
    "    lista_5.append([])\n",
    "lista_5\n",
    "\n",
    "# List comprehension \n",
    "lista_lista = [[e for e in range(3)] for i in range (11)]\n",
    "\n",
    "lista_lista\n",
    "\n",
    "lista_s = [i for i in range (11)]\n",
    "lista_s\n",
    "lista_mod = [i**2 for i in lista_s if i%2==0]\n",
    "\n",
    "expresion = \"Hola mi nombre es max\"\n",
    "split_s = expresion.split()\n",
    "split_s\n",
    "\n",
    "spl_cap = [i.capitalize() for i in split_s]\n",
    "\n",
    "spl_cap = [i.upper() for i in split_s]\n",
    "\n",
    "otra_s = 'el dia de hoy 11 alumnos'\n",
    "numero = [X for X in otra_s if X.isdigit()]\n",
    "numero\n",
    "\n",
    "[x for x in lista_lista]\n",
    "\n",
    "dic = {1:1,'dos':3,'tres':2}\n",
    "llavles = list(dic.keys())\n",
    "llavles\n",
    "\n",
    "\n",
    "\n",
    "\n"
   ]
  },
  {
   "cell_type": "code",
   "execution_count": 57,
   "metadata": {},
   "outputs": [
    {
     "data": {
      "text/plain": [
       "{1, 2, 3, 4, 5}"
      ]
     },
     "execution_count": 57,
     "metadata": {},
     "output_type": "execute_result"
    }
   ],
   "source": [
    "tup = (12,34,5,7,7)\n",
    "\n",
    "\n",
    "mySet = {1,2,3,4,5}\n",
    "\n",
    "mySet.\n"
   ]
  }
 ],
 "metadata": {
  "kernelspec": {
   "display_name": "Python 3",
   "language": "python",
   "name": "python3"
  },
  "language_info": {
   "codemirror_mode": {
    "name": "ipython",
    "version": 3
   },
   "file_extension": ".py",
   "mimetype": "text/x-python",
   "name": "python",
   "nbconvert_exporter": "python",
   "pygments_lexer": "ipython3",
   "version": "3.6.0"
  }
 },
 "nbformat": 4,
 "nbformat_minor": 2
}
