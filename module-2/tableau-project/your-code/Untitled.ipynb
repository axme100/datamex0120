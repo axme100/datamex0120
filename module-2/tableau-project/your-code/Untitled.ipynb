{
 "cells": [
  {
   "cell_type": "markdown",
   "metadata": {},
   "source": [
    "# Define the client"
   ]
  },
  {
   "cell_type": "markdown",
   "metadata": {},
   "source": [
    "The client, Max, is a one-man start up team looking for an area with an abundance of smaller web/software companies where the cost of living tends to be lower. The assumption is that a higher quantity of smaller web/software comapnies will means a larger network/community of start-up support including incubators, mentorship programs, and meetups. Max is also interested in an area with a low cost of living so he can afford to purchase a hosue.\n",
    "\n",
    "Plan:\n",
    "\n",
    "Create two choropleth maps:\n",
    "(a) Shows number of smaller web-software comapnies by US Zip Code\n",
    "(b) Shows home prices by US Zip Code\n",
    "\n",
    "(c) Preform some kind of filter function of the data from the previous maps to find the best city"
   ]
  },
  {
   "cell_type": "code",
   "execution_count": 74,
   "metadata": {},
   "outputs": [],
   "source": [
    "# Import libraries\n",
    "import pymongo\n",
    "from pymongo import MongoClient\n",
    "import pandas as pd\n",
    "import seaborn as sns\n",
    "%matplotlib inline"
   ]
  },
  {
   "cell_type": "code",
   "execution_count": 75,
   "metadata": {},
   "outputs": [],
   "source": [
    "# Connect to the local database\n",
    "client = MongoClient()\n",
    "db = client.companies\n",
    "\n",
    "# Establish comp as alias for collection \"companies\"\n",
    "comp = db.companies"
   ]
  },
  {
   "cell_type": "code",
   "execution_count": 76,
   "metadata": {},
   "outputs": [],
   "source": [
    "# Get the median number of employyes for web and software comapnies\n",
    "cursor = comp.find({\n",
    "    \"category_code\": {\"$in\":[\"web\", \"software\"]},\n",
    "    \"number_of_employees\": {\"$gt\": 0}\n",
    "},{\"number_of_employees\": 1, \"_id\": 0})"
   ]
  },
  {
   "cell_type": "code",
   "execution_count": 77,
   "metadata": {},
   "outputs": [
    {
     "data": {
      "text/plain": [
       "<matplotlib.axes._subplots.AxesSubplot at 0x1233ba630>"
      ]
     },
     "execution_count": 77,
     "metadata": {},
     "output_type": "execute_result"
    },
    {
     "data": {
      "image/png": "[encoded data removed]",
      "text/plain": [
       "<Figure size 432x288 with 1 Axes>"
      ]
     },
     "metadata": {},
     "output_type": "display_data"
    }
   ],
   "source": [
    "pd.DataFrame(list(cursor)).boxplot()"
   ]
  },
  {
   "cell_type": "code",
   "execution_count": 78,
   "metadata": {},
   "outputs": [],
   "source": [
    "# We want companies that are smaller the 20\n",
    "cursor = comp.find({\n",
    "    \"category_code\": {\"$in\":[\"web\", \"software\"]},\n",
    "    \"number_of_employees\": {\"$gt\": 0, \"$lt\": 20}\n",
    "},{\"number_of_employees\": 1, \"_id\": 0})"
   ]
  },
  {
   "cell_type": "code",
   "execution_count": 79,
   "metadata": {},
   "outputs": [
    {
     "data": {
      "text/plain": [
       "<matplotlib.axes._subplots.AxesSubplot at 0x13469db38>"
      ]
     },
     "execution_count": 79,
     "metadata": {},
     "output_type": "execute_result"
    },
    {
     "data": {
      "image/png": "[encoded data removed]",
      "text/plain": [
       "<Figure size 432x288 with 1 Axes>"
      ]
     },
     "metadata": {},
     "output_type": "display_data"
    }
   ],
   "source": [
    "pd.DataFrame(list(cursor)).boxplot()"
   ]
  },
  {
   "cell_type": "code",
   "execution_count": 81,
   "metadata": {},
   "outputs": [
    {
     "data": {
      "text/plain": [
       "2431"
      ]
     },
     "execution_count": 81,
     "metadata": {},
     "output_type": "execute_result"
    }
   ],
   "source": [
    "# Rewind cursor to get length\n",
    "cursor.rewind()\n",
    "len(list(cursor))"
   ]
  },
  {
   "cell_type": "markdown",
   "metadata": {},
   "source": [
    "# We want the 2431 companies in web/software with less than 20 employees\n"
   ]
  },
  {
   "cell_type": "code",
   "execution_count": 82,
   "metadata": {},
   "outputs": [],
   "source": [
    "cursor = comp.find({\n",
    "    \"category_code\": {\"$in\":[\"web\", \"software\"]},\n",
    "    \"number_of_employees\": {\"$gt\": 0, \"$lt\": 20}\n",
    "},{\"_id\": 0})"
   ]
  },
  {
   "cell_type": "code",
   "execution_count": null,
   "metadata": {},
   "outputs": [],
   "source": [
    "# process all of the geoJSON data\n",
    "# Foudn code snippet from: https://gist.github.com/ericmhuntley/790937a759fd89ed77c8831f880f854c\n",
    "# This file can be separated out into a stand-alone script\n",
    "\n",
    "import os\n",
    "import glob\n",
    "import geojson\n",
    "\n",
    "json_dir_name = \"./\"\n",
    "json_pattern = os.path.join(json_dir_name,'*.geojson')\n",
    "file_list = glob.glob(json_pattern)\n",
    "\n",
    "collection = []\n",
    "\n",
    "for file in file_list:\n",
    "    with open(file) as f:\n",
    "        layer = geojson.load(f)\n",
    "        collection.append(layer)\n",
    "\n",
    "geo_collection = geojson.GeometryCollection(collection)\n",
    "\n",
    "with open('test_collection.geojson', 'w') as f:\n",
    "    geojson.dump(geo_collection, f)\n"
   ]
  }
 ],
 "metadata": {
  "kernelspec": {
   "display_name": "Python 3",
   "language": "python",
   "name": "python3"
  },
  "language_info": {
   "codemirror_mode": {
    "name": "ipython",
    "version": 3
   },
   "file_extension": ".py",
   "mimetype": "text/x-python",
   "name": "python",
   "nbconvert_exporter": "python",
   "pygments_lexer": "ipython3",
   "version": "3.6.0"
  }
 },
 "nbformat": 4,
 "nbformat_minor": 2
}
