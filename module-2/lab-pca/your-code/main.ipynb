{
 "cells": [
  {
   "cell_type": "markdown",
   "metadata": {},
   "source": [
    "# Before your start:\n",
    "- Read the README.md file\n",
    "- Comment as much as you can and use the resources (README.md file)\n",
    "- Happy learning!"
   ]
  },
  {
   "cell_type": "code",
   "execution_count": 29,
   "metadata": {},
   "outputs": [
    {
     "name": "stdout",
     "output_type": "stream",
     "text": [
      "Pretty printing has been turned OFF\n"
     ]
    }
   ],
   "source": [
    "# Run this code:\n",
    "%matplotlib inline\n",
    "import matplotlib.pyplot as plt\n",
    "%pprint"
   ]
  },
  {
   "cell_type": "code",
   "execution_count": 3,
   "metadata": {},
   "outputs": [],
   "source": [
    "# Import numpy and pandas:\n",
    "import numpy as np\n",
    "import pandas as pd"
   ]
  },
  {
   "cell_type": "markdown",
   "metadata": {},
   "source": [
    "# Challenge 1 - Reading and Standardizing the Data\n",
    "\n",
    "In this challenge we will work with image data and reduce the dimensions of the data to create a 2 dimensional plot. While we have not worked much with image data before, it can be represented as a numpy array where each pixel is assigned a numeric value. In this lesson, we will look at a dataset of cats and a dataset of dogs and see whether reducing them to two dimensions allows us to see if the data is separable. We will start by loading and processing the data. Run the cell below to load the two csv files and convert them into numpy arrays."
   ]
  },
  {
   "cell_type": "code",
   "execution_count": 4,
   "metadata": {},
   "outputs": [],
   "source": [
    "# Run this code\n",
    "cats = np.array(pd.read_csv(\"https://raw.githubusercontent.com/bioramble/pca/master/cat.csv\", header=None))\n",
    "dogs = np.array(pd.read_csv(\"https://raw.githubusercontent.com/bioramble/pca/master/dog.csv\", header=None))"
   ]
  },
  {
   "cell_type": "markdown",
   "metadata": {},
   "source": [
    "Next, we'll examine the shape of both the cats and the dogs arrays. Print out both shapes below."
   ]
  },
  {
   "cell_type": "code",
   "execution_count": 5,
   "metadata": {},
   "outputs": [
    {
     "name": "stdout",
     "output_type": "stream",
     "text": [
      "(4096, 80)\n",
      "(4096, 80)\n"
     ]
    }
   ],
   "source": [
    "# Your code here:\n",
    "print(cats.shape)\n",
    "print(dogs.shape)"
   ]
  },
  {
   "cell_type": "markdown",
   "metadata": {},
   "source": [
    "What this means is that both arrays contain 80 images each (the number of columns). Each image is comprised of 64x64 pixels (so a total of 4096 pixels per image). The images have been flattened such that all 4096 are in a single row.\n",
    "\n",
    "Print out column 0 of the cats array to see what the pixels values look like."
   ]
  },
  {
   "cell_type": "code",
   "execution_count": 6,
   "metadata": {},
   "outputs": [
    {
     "data": {
      "text/plain": [
       "array([ 64,  23, 250, 137,  55, 173,  18, 134,  19,  47, 109, 164,  41,\n",
       "        78, 108, 108, 247, 105, 158,  54, 103,   4,  23, 102, 239,  72,\n",
       "        42,  21, 168, 109, 112, 177,  22, 233,  15, 236, 250, 137,  32,\n",
       "         5, 178, 109,  24, 107,  53, 241, 226, 143,   5, 136,  98, 100,\n",
       "        89,  66, 228,  92, 255,  88, 230,  56, 160,  69,   6,  24, 195,\n",
       "       183, 239,  35, 154, 154, 122,  18,  87, 106, 174,  69,  28,  60,\n",
       "       223, 101])"
      ]
     },
     "execution_count": 6,
     "metadata": {},
     "output_type": "execute_result"
    }
   ],
   "source": [
    "# Your code here:\n",
    "cats[0]"
   ]
  },
  {
   "cell_type": "markdown",
   "metadata": {},
   "source": [
    "Using `matplotlib` we can plot a single cat or a single dog. We do this by reshaping the vector back to a 64x64 image and then using the `imshow` function.\n",
    "\n",
    "Run the code below to look at the first dog and the first cat."
   ]
  },
  {
   "cell_type": "code",
   "execution_count": 7,
   "metadata": {},
   "outputs": [
    {
     "data": {
      "text/plain": [
       "<matplotlib.image.AxesImage at 0x12051ea58>"
      ]
     },
     "execution_count": 7,
     "metadata": {},
     "output_type": "execute_result"
    },
    {
     "data": {
      "image/png": "[encoded data removed]",
      "text/plain": [
       "<Figure size 432x288 with 1 Axes>"
      ]
     },
     "metadata": {},
     "output_type": "display_data"
    }
   ],
   "source": [
    "# Run this code:\n",
    "fig, ax = plt.subplots()\n",
    "ax.imshow(cats[:,0].reshape(64, 64).T, cmap=plt.cm.bone, interpolation='nearest') "
   ]
  },
  {
   "cell_type": "code",
   "execution_count": 8,
   "metadata": {},
   "outputs": [
    {
     "data": {
      "text/plain": [
       "<matplotlib.image.AxesImage at 0x125a512b0>"
      ]
     },
     "execution_count": 8,
     "metadata": {},
     "output_type": "execute_result"
    },
    {
     "data": {
      "image/png": "[encoded data removed]",
      "text/plain": [
       "<Figure size 432x288 with 1 Axes>"
      ]
     },
     "metadata": {},
     "output_type": "display_data"
    }
   ],
   "source": [
    "# Run this code:\n",
    "fig, ax = plt.subplots()\n",
    "ax.imshow(dogs[:,0].reshape(64, 64).T, cmap=plt.cm.bone, interpolation='nearest') "
   ]
  },
  {
   "cell_type": "markdown",
   "metadata": {},
   "source": [
    "Next, we would like to create a standardization function. This function will find the mean and standard deviation of each image. We subtract the mean from each pixel and divide each pixel by the standard deviation. Write the function below.\n",
    "\n",
    "Hint: To find the mean and standard deviation of each image, use `numpy`'s version of mean and stadnard deviation and use `axis=0`."
   ]
  },
  {
   "cell_type": "code",
   "execution_count": 9,
   "metadata": {},
   "outputs": [],
   "source": [
    "def standardize(x):\n",
    "    # It really seems like this doesn't make any sense\n",
    "    #This function takes as input a numpy array and returns a stadardized numpy array of the same dimensions.\n",
    "    #Sample input: np.array([[1,2,3],[4,5,6]])\n",
    "    #Sample output: np.array([[-1,-1,-1],[1,1,1]])\n",
    "    # Get the mean of the array\n",
    "    my_mean = np.mean(x, axis=0)\n",
    "    my_std = np.std(x, axis=0)\n",
    "    \n",
    "    return (x - my_mean)/(my_std)"
   ]
  },
  {
   "cell_type": "code",
   "execution_count": 10,
   "metadata": {},
   "outputs": [
    {
     "data": {
      "text/plain": [
       "array([[-1., -1., -1.],\n",
       "       [ 1.,  1.,  1.]])"
      ]
     },
     "execution_count": 10,
     "metadata": {},
     "output_type": "execute_result"
    }
   ],
   "source": [
    "standardize(np.array([[1,2,3],[4,5,6]]))"
   ]
  },
  {
   "cell_type": "markdown",
   "metadata": {},
   "source": [
    "Now, use the `np.concatenate` function to combine the cats and dogs arrays. Use `axis=1` to combine the two correctly. Make sure to put dogs first."
   ]
  },
  {
   "cell_type": "code",
   "execution_count": 11,
   "metadata": {},
   "outputs": [],
   "source": [
    "# Your code here:\n",
    "#cats.shape\n",
    "#dogs.shape\n",
    "concatArray = np.concatenate((cats, dogs))"
   ]
  },
  {
   "cell_type": "markdown",
   "metadata": {},
   "source": [
    "Standardize the concatenated array below."
   ]
  },
  {
   "cell_type": "code",
   "execution_count": 12,
   "metadata": {},
   "outputs": [],
   "source": [
    "# Your code here:\n",
    "standardizedArray = standardize(concatArray)"
   ]
  },
  {
   "cell_type": "markdown",
   "metadata": {},
   "source": [
    "# Challenge 2 - Using PCA\n",
    "\n",
    "Now that we have created a standardized matrix of cats and dogs, we'll find the two most important components in the data.\n",
    "\n",
    "Load the `PCA` function from `statsmodels` (read about this function [here](https://www.statsmodels.org/dev/generated/statsmodels.multivariate.pca.PCA.html)) and apply the function to our standarized data. Create a PCA model with two components."
   ]
  },
  {
   "cell_type": "code",
   "execution_count": 13,
   "metadata": {},
   "outputs": [],
   "source": [
    "# Your code here:\n",
    "from statsmodels.multivariate.pca import PCA\n",
    "pc = PCA(standardizedArray, ncomp=2)"
   ]
  },
  {
   "cell_type": "markdown",
   "metadata": {},
   "source": [
    "Use `numpy` to find to transpose the standardized pet array. This will help us compute the projection."
   ]
  },
  {
   "cell_type": "code",
   "execution_count": 14,
   "metadata": {},
   "outputs": [],
   "source": [
    "# Your code here:\n",
    "standardizedArrayTransposed = standardizedArray.T"
   ]
  },
  {
   "cell_type": "markdown",
   "metadata": {},
   "source": [
    "Find the dot product of the transposed standardized pet matrix and the `factors` of the `PCA` model found above. This will be the projection onto 2 dimensions. This means that each cat and dog image will now only have two columns instead of 4096."
   ]
  },
  {
   "cell_type": "code",
   "execution_count": 20,
   "metadata": {},
   "outputs": [
    {
     "data": {
      "text/plain": [
       "array([[ 2.23981529e+01,  1.39114117e+01],\n",
       "       [ 5.09117506e+01,  2.79872611e+01],\n",
       "       [-4.31275242e+01,  3.04215618e+01],\n",
       "       [-1.37225388e+01,  6.61375845e+01],\n",
       "       [ 3.44418160e+01,  2.52483356e+01],\n",
       "       [ 4.31005913e+01,  1.45349094e+01],\n",
       "       [ 4.13881455e+01,  3.52818442e+01],\n",
       "       [ 3.11615651e+01,  4.53675623e+01],\n",
       "       [ 5.97306636e+01, -1.23564313e+01],\n",
       "       [ 2.83532949e+01, -1.60877823e+01],\n",
       "       [ 1.67180116e+01,  1.16259572e+00],\n",
       "       [ 7.70585521e+00, -4.55814861e+01],\n",
       "       [ 6.42049039e+01,  1.92023730e+00],\n",
       "       [ 4.40590893e+01, -9.25345706e+00],\n",
       "       [ 2.91624595e+00,  2.61589148e+01],\n",
       "       [ 5.46428273e+01,  2.42425914e+00],\n",
       "       [-1.80402481e+01,  2.93760208e+00],\n",
       "       [ 4.62592418e+01,  3.36293832e+01],\n",
       "       [-2.07326601e+01,  3.72588348e+01],\n",
       "       [ 5.70032426e+01, -3.02228648e+01],\n",
       "       [ 1.42953051e+01,  4.68629517e+01],\n",
       "       [ 5.01601422e+01,  4.98058976e+00],\n",
       "       [ 3.38578546e+01, -4.80127946e+01],\n",
       "       [ 4.99591843e+01,  4.14158630e+00],\n",
       "       [-1.93438922e+01,  6.90613173e+01],\n",
       "       [ 2.88192491e+01,  3.45061706e+01],\n",
       "       [ 4.71210353e+01,  3.05317623e-02],\n",
       "       [ 3.79140559e+01, -4.38292312e+01],\n",
       "       [ 1.93077748e+01,  1.92281370e+01],\n",
       "       [ 3.50867161e+01,  3.66922393e+01],\n",
       "       [ 2.19318389e+01,  4.78404699e+01],\n",
       "       [ 8.09722756e+00,  6.03699774e+01],\n",
       "       [ 3.91431121e+01,  3.51943912e+01],\n",
       "       [-2.70860765e+01,  7.33865562e+01],\n",
       "       [ 4.64675721e+01,  1.97742470e+01],\n",
       "       [ 1.99869810e+01, -1.79196944e+01],\n",
       "       [-3.71000920e+01,  2.70551988e+01],\n",
       "       [ 5.18430363e+01,  1.68858505e+01],\n",
       "       [ 3.55099818e+01,  2.80287105e+01],\n",
       "       [ 2.02452312e+01,  6.06422240e+01],\n",
       "       [ 3.16588693e+01,  2.25398003e+01],\n",
       "       [ 3.35555916e+01,  1.30569728e+01],\n",
       "       [ 5.64573083e+01,  1.51098587e+01],\n",
       "       [ 4.04105979e+01, -8.61245349e+00],\n",
       "       [ 5.03079881e+01, -3.49654635e+01],\n",
       "       [-2.46232485e+01, -3.40433257e+01],\n",
       "       [-5.70310910e+00, -2.07821451e+01],\n",
       "       [-2.27467155e+01,  1.68673159e+01],\n",
       "       [ 3.89881680e+01, -2.33488455e+01],\n",
       "       [ 1.36420987e+01,  5.18338353e+01],\n",
       "       [ 2.29955880e+01,  2.04691247e+01],\n",
       "       [ 7.70112809e+00, -4.25280136e+01],\n",
       "       [ 4.25552761e+01, -5.26296187e+01],\n",
       "       [ 4.88779954e+01, -1.83038123e+01],\n",
       "       [-8.56759744e+00, -1.03848686e+01],\n",
       "       [ 3.06304624e+01, -1.08602602e+01],\n",
       "       [ 4.64531413e+01, -2.19311483e+00],\n",
       "       [ 1.69301417e+01, -1.24775893e+01],\n",
       "       [-8.71257663e+00,  1.85485020e+01],\n",
       "       [ 3.05183005e+01, -3.59788421e+01],\n",
       "       [ 2.63124894e+01,  1.54687425e+01],\n",
       "       [ 1.44022453e+01,  1.54551576e+01],\n",
       "       [ 3.55727111e+01,  2.76035894e+01],\n",
       "       [ 3.14181876e+01, -5.46842569e+01],\n",
       "       [-1.64298074e+01,  3.70585833e+01],\n",
       "       [ 1.05208808e+01,  1.93469054e+01],\n",
       "       [-5.16720998e+01, -3.86216016e+00],\n",
       "       [ 6.93705864e-01,  1.63165331e+01],\n",
       "       [-7.46423503e+00,  1.40293073e+01],\n",
       "       [-7.96181819e+00, -3.66393414e+00],\n",
       "       [-6.43959542e+00,  3.08736185e+01],\n",
       "       [ 3.98412725e+01,  1.83167517e+01],\n",
       "       [ 2.84910488e+01,  2.63968783e+01],\n",
       "       [ 4.28637983e+00,  4.38408639e+01],\n",
       "       [-1.61264784e+01, -7.07046738e+00],\n",
       "       [ 2.68087055e+01,  3.63437093e+00],\n",
       "       [ 3.35363950e+01, -2.22892236e+01],\n",
       "       [ 4.01588358e+01, -1.26739814e-01],\n",
       "       [ 3.07562405e-01,  2.25852253e+01],\n",
       "       [ 1.47618405e+01, -3.66978112e+00]])"
      ]
     },
     "execution_count": 20,
     "metadata": {},
     "output_type": "execute_result"
    }
   ],
   "source": [
    "# Your code here:\n",
    "importantThing = np.dot(standardizedArrayTransposed, pc.factors)\n",
    "importantThing"
   ]
  },
  {
   "cell_type": "markdown",
   "metadata": {},
   "source": [
    "# Challenge 3 - Plotting the Data\n",
    "\n",
    "Now that we have reduced our cats and dogs arrays, we can easily plot the data in a way that the human eye can understand. We can look at this plot to see whether there are differences between the cat and dog images. \n",
    "\n",
    "In the cell below, turn the two dimensional projection into a pandas dataframe and name the columns `pc1`, and `pc2` respectively."
   ]
  },
  {
   "cell_type": "code",
   "execution_count": 32,
   "metadata": {},
   "outputs": [],
   "source": [
    "# Your code here:\n",
    "myData = pd.DataFrame(importantThing, columns=['pc1', 'pc2'])"
   ]
  },
  {
   "cell_type": "markdown",
   "metadata": {},
   "source": [
    "Create a labels list. This list will be of size 160. The first 80 elements in the list will be the word `blue`, and the last 80 elements will be `red`. This will ensure that all dog observations will be colored in blue and all cats will be colored in red. Name this list `colors`."
   ]
  },
  {
   "cell_type": "code",
   "execution_count": 64,
   "metadata": {},
   "outputs": [],
   "source": [
    "# Your code here:\n",
    "blue = [\"blue\" for i in range(80)]\n",
    "red = ['red' for i in range (80)]\n",
    "colors = blue + red"
   ]
  },
  {
   "cell_type": "code",
   "execution_count": 66,
   "metadata": {},
   "outputs": [
    {
     "data": {
      "text/plain": [
       "['blue', 'blue', 'blue', 'blue', 'blue', 'blue', 'blue', 'blue', 'blue', 'blue', 'blue', 'blue', 'blue', 'blue', 'blue', 'blue', 'blue', 'blue', 'blue', 'blue', 'blue', 'blue', 'blue', 'blue', 'blue', 'blue', 'blue', 'blue', 'blue', 'blue', 'blue', 'blue', 'blue', 'blue', 'blue', 'blue', 'blue', 'blue', 'blue', 'blue', 'blue', 'blue', 'blue', 'blue', 'blue', 'blue', 'blue', 'blue', 'blue', 'blue', 'blue', 'blue', 'blue', 'blue', 'blue', 'blue', 'blue', 'blue', 'blue', 'blue', 'blue', 'blue', 'blue', 'blue', 'blue', 'blue', 'blue', 'blue', 'blue', 'blue', 'blue', 'blue', 'blue', 'blue', 'blue', 'blue', 'blue', 'blue', 'blue', 'blue', 'red', 'red', 'red', 'red', 'red', 'red', 'red', 'red', 'red', 'red', 'red', 'red', 'red', 'red', 'red', 'red', 'red', 'red', 'red', 'red', 'red', 'red', 'red', 'red', 'red', 'red', 'red', 'red', 'red', 'red', 'red', 'red', 'red', 'red', 'red', 'red', 'red', 'red', 'red', 'red', 'red', 'red', 'red', 'red', 'red', 'red', 'red', 'red', 'red', 'red', 'red', 'red', 'red', 'red', 'red', 'red', 'red', 'red', 'red', 'red', 'red', 'red', 'red', 'red', 'red', 'red', 'red', 'red', 'red', 'red', 'red', 'red', 'red', 'red', 'red', 'red', 'red', 'red', 'red', 'red']"
      ]
     },
     "execution_count": 66,
     "metadata": {},
     "output_type": "execute_result"
    }
   ],
   "source": [
    "colors"
   ]
  },
  {
   "cell_type": "markdown",
   "metadata": {},
   "source": [
    "Create a scatter plot of `pc1` and `pc2` below. Use the `colors` list above to color the observations by setting `c=colors`."
   ]
  },
  {
   "cell_type": "code",
   "execution_count": 80,
   "metadata": {},
   "outputs": [
    {
     "data": {
      "text/plain": [
       "<matplotlib.collections.PathCollection object at 0x139ba1b70>"
      ]
     },
     "execution_count": 80,
     "metadata": {},
     "output_type": "execute_result"
    },
    {
     "data": {
      "image/png": "[encoded data removed]",
      "text/plain": [
       "<Figure size 432x288 with 1 Axes>"
      ]
     },
     "metadata": {},
     "output_type": "display_data"
    }
   ],
   "source": [
    "import numpy as np\n",
    "import matplotlib.pyplot as plt\n",
    "\n",
    "plt.scatter(myData.index, myData['pc1'], c=colors[0:80])\n",
    "plt.scatter(myData.index, myData['pc2'], c=colors[80:160])\n"
   ]
  },
  {
   "cell_type": "markdown",
   "metadata": {},
   "source": [
    "Do you see a clear separation between cats and dogs? Write your answer below."
   ]
  },
  {
   "cell_type": "code",
   "execution_count": null,
   "metadata": {},
   "outputs": [],
   "source": [
    "# Your conclusions here:\n",
    "# The conclusions are that I was unable to r"
   ]
  }
 ],
 "metadata": {
  "kernelspec": {
   "display_name": "Python 3",
   "language": "python",
   "name": "python3"
  },
  "language_info": {
   "codemirror_mode": {
    "name": "ipython",
    "version": 3
   },
   "file_extension": ".py",
   "mimetype": "text/x-python",
   "name": "python",
   "nbconvert_exporter": "python",
   "pygments_lexer": "ipython3",
   "version": "3.6.0"
  }
 },
 "nbformat": 4,
 "nbformat_minor": 2
}
